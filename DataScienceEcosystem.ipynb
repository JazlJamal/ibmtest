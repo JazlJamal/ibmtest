{
 "cells": [
  {
   "cell_type": "markdown",
   "id": "e1424ab9-d664-4b3c-9fa4-f7b736f22dd4",
   "metadata": {
    "tags": []
   },
   "source": [
    "# Data Science Tools and Ecosystem\n",
    "\n",
    "\n",
    "\n",
    "In this notebook, Data Science Tools and Ecosystem are summarized.\n",
    "\n",
    "Some of the popular languages that Data Scientists use are:\n",
    "1. Python\n",
    "2. R\n",
    "3. SQL\n",
    "\n",
    "Some of the commonly used libraries used by Data Scientists include:\n",
    "1. Pandas\n",
    "2. NumPy\n",
    "3. Matplotlib\n",
    "\n",
    " \n",
    " # Data Science tools\n",
    "\n",
    "| Data Science Tools  |\n",
    "|:---------------|\n",
    "| Jupyter Notebook|\n",
    "| RStudio         |\n",
    "| Spyder          |\n",
    "\n",
    "\n",
    "\n",
    "\n",
    "\n"
   ]
  },
  {
   "cell_type": "markdown",
   "id": "f09d51c7-52a0-4531-bbcc-c7cd10dfcd40",
   "metadata": {
    "tags": []
   },
   "source": [
    "### Arithmetic Expressions in Python\n",
    "Below are a few examples of evaluating arithmetic expressions in Python.\n",
    "\n",
    "## This is a simple arithmetic expression to multiply then add integers.\n",
    "\n",
    "\n",
    "\n",
    "\n",
    "\n",
    "\n"
   ]
  },
  {
   "cell_type": "code",
   "execution_count": 5,
   "id": "503b5e06-2a8e-4793-9433-c556126a972a",
   "metadata": {
    "tags": []
   },
   "outputs": [
    {
     "data": {
      "text/plain": [
       "17"
      ]
     },
     "execution_count": 5,
     "metadata": {},
     "output_type": "execute_result"
    }
   ],
   "source": [
    "result = (3 * 4) + 5 \n",
    "result"
   ]
  },
  {
   "cell_type": "markdown",
   "id": "821a4453-98cd-4be0-b474-ac3e42b14605",
   "metadata": {
    "tags": []
   },
   "source": [
    "# This will convert 200 minutes to hours by dividing by 60.\n"
   ]
  },
  {
   "cell_type": "code",
   "execution_count": 10,
   "id": "91cd76d6-bb4b-414f-a1b7-cd5bc82c3939",
   "metadata": {
    "tags": []
   },
   "outputs": [
    {
     "data": {
      "text/plain": [
       "3.3333333333333335"
      ]
     },
     "execution_count": 10,
     "metadata": {},
     "output_type": "execute_result"
    }
   ],
   "source": [
    "hours = 200 / 60\n",
    "hours"
   ]
  },
  {
   "cell_type": "markdown",
   "id": "5757b5cb-6ec6-4da4-b069-d74805d7aac5",
   "metadata": {
    "tags": []
   },
   "source": [
    "**Objectives:**\n",
    "- List popular languages for Data Science.\n",
    "- Introduce common libraries used.\n",
    "- Provide examples of arithmetic expressions in Python.\n"
   ]
  },
  {
   "cell_type": "markdown",
   "id": "50cdb9a8-41ff-47a8-8754-fbca59233b1c",
   "metadata": {
    "tags": []
   },
   "source": [
    "## Author\n",
    "Jazl Jamal"
   ]
  }
 ],
 "metadata": {
  "kernelspec": {
   "display_name": "Python",
   "language": "python",
   "name": "conda-env-python-py"
  },
  "language_info": {
   "codemirror_mode": {
    "name": "ipython",
    "version": 3
   },
   "file_extension": ".py",
   "mimetype": "text/x-python",
   "name": "python",
   "nbconvert_exporter": "python",
   "pygments_lexer": "ipython3",
   "version": "3.7.12"
  }
 },
 "nbformat": 4,
 "nbformat_minor": 5
}
