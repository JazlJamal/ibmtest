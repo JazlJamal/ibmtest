# Data Science Tools and Ecosystem

In this notebook, Data Science Tools and Ecosystem are summarized.

Some of the popular languages that Data Scientists use are:

1. Python
2. R
3. SQL

Some of the commonly used libraries used by Data Scientists include:".
List three popular libraries 
1. Pandas
2. NumPy
3. Matplotlib
